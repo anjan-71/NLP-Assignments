{
 "cells": [
  {
   "cell_type": "code",
   "execution_count": 1,
   "id": "412a003c-21fa-4e7a-9db5-91f2448fd591",
   "metadata": {},
   "outputs": [
    {
     "name": "stdout",
     "output_type": "stream",
     "text": [
      "Total Seconds: 2562\n"
     ]
    }
   ],
   "source": [
    "# Question 1\n",
    "total_seconds = 42 * 60 + 42\n",
    "print(\"Total Seconds:\", total_seconds)\n"
   ]
  },
  {
   "cell_type": "code",
   "execution_count": 2,
   "id": "f8813566-a659-4a79-92d7-774486642b65",
   "metadata": {},
   "outputs": [
    {
     "name": "stdout",
     "output_type": "stream",
     "text": [
      "Total Miles: 6.211180124223602\n"
     ]
    }
   ],
   "source": [
    "# Question 2\n",
    "total_miles = 10 / 1.61\n",
    "print(\"Total Miles:\", total_miles)\n"
   ]
  },
  {
   "cell_type": "code",
   "execution_count": 3,
   "id": "21df7b28-be18-44da-967b-fc6f6e6b5218",
   "metadata": {},
   "outputs": [
    {
     "name": "stdout",
     "output_type": "stream",
     "text": [
      "Average Pace: 6 minutes 52 seconds per mile\n",
      "Average Speed: 8.727653570337614 miles per hour\n"
     ]
    }
   ],
   "source": [
    "#question 3\n",
    "\n",
    "total_seconds = 42 * 60 + 42\n",
    "total_miles = 10 / 1.61\n",
    "pace_in_seconds = total_seconds / total_miles\n",
    "average_pace_minutes = int(pace_in_seconds // 60)\n",
    "average_pace_seconds = int(pace_in_seconds % 60)\n",
    "\n",
    "print(f\"Average Pace: {average_pace_minutes} minutes {average_pace_seconds} seconds per mile\")\n",
    "\n",
    "# Convert pace to hours\n",
    "total_hours = total_seconds / 3600\n",
    "average_speed = total_miles / total_hours\n",
    "print(f\"Average Speed: {average_speed} miles per hour\")\n"
   ]
  },
  {
   "cell_type": "code",
   "execution_count": null,
   "id": "5b691e7d-ef00-40d9-acad-b7c716626b67",
   "metadata": {},
   "outputs": [],
   "source": []
  }
 ],
 "metadata": {
  "kernelspec": {
   "display_name": "Python 3 (ipykernel)",
   "language": "python",
   "name": "python3"
  },
  "language_info": {
   "codemirror_mode": {
    "name": "ipython",
    "version": 3
   },
   "file_extension": ".py",
   "mimetype": "text/x-python",
   "name": "python",
   "nbconvert_exporter": "python",
   "pygments_lexer": "ipython3",
   "version": "3.11.4"
  }
 },
 "nbformat": 4,
 "nbformat_minor": 5
}
